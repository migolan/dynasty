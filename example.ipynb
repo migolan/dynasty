{
 "cells": [
  {
   "cell_type": "code",
   "execution_count": 1,
   "id": "0aff441f-69fa-44b4-9d2d-b4aaf42424c9",
   "metadata": {},
   "outputs": [],
   "source": [
    "import pylint\n",
    "from dynasty import Dynasty"
   ]
  },
  {
   "cell_type": "code",
   "execution_count": 2,
   "id": "554a2214-f481-4b22-877f-180fd3230b6b",
   "metadata": {},
   "outputs": [],
   "source": [
    "pylint_dynasty = Dynasty(pylint)"
   ]
  },
  {
   "cell_type": "code",
   "execution_count": 3,
   "id": "1c41ccb8-3342-4831-8601-66fefdf6bcda",
   "metadata": {},
   "outputs": [
    {
     "data": {
      "application/vnd.jupyter.widget-view+json": {
       "model_id": "14bb076a61cb4ed8bfc4956b3100386f",
       "version_major": 2,
       "version_minor": 0
      },
      "text/plain": [
       "Tree(nodes=(Node(icon='archive', name='pylint', nodes=(Node(icon='angle-right', name='OptionsManagerMixIn', no…"
      ]
     },
     "metadata": {},
     "output_type": "display_data"
    }
   ],
   "source": [
    "pylint_dynasty.widget()"
   ]
  },
  {
   "cell_type": "code",
   "execution_count": 4,
   "id": "f3b6f9ed-25f3-40e9-a6ef-977d387c98b2",
   "metadata": {},
   "outputs": [
    {
     "name": "stdout",
     "output_type": "stream",
     "text": [
      "pylint\n",
      "├── OptionsManagerMixIn\n",
      "│   └── ConfigurationMixIn\n",
      "│       └── Run\n",
      "├── OptionsProviderMixIn\n",
      "│   └── BaseChecker\n",
      "│       ├── BaseTokenChecker\n",
      "│       │   ├── FormatChecker\n",
      "│       │   ├── RawMetricsChecker\n",
      "│       │   ├── SpellingChecker\n",
      "│       │   ├── StringConstantChecker\n",
      "│       │   └── ElseifUsedChecker\n",
      "│       ├── ClassChecker\n",
      "│       ├── SpecialMethodsChecker\n",
      "│       ├── MisdesignChecker\n",
      "│       ├── ImportsChecker\n",
      "│       ├── ByIdManagedMessagesChecker\n",
      "│       ├── EncodingChecker\n",
      "│       ├── NewStyleConflictChecker\n",
      "│       ├── SimilarChecker\n",
      "│       ├── StdlibChecker\n",
      "│       ├── StringFormatChecker\n",
      "│       ├── TypeChecker\n",
      "│       ├── IterableChecker\n",
      "│       ├── VariablesChecker\n",
      "│       ├── BadBuiltinChecker\n",
      "│       ├── DocstringParameterChecker\n",
      "│       └── MultipleTypesChecker\n",
      "├── WarningScope\n",
      "├── DotBackend\n",
      "├── Interface\n",
      "│   ├── IChecker\n",
      "│   │   ├── IRawChecker\n",
      "│   │   ├── ITokenChecker\n",
      "│   │   └── IAstroidChecker\n",
      "│   └── IReporter\n",
      "├── UnittestLinter\n",
      "├── CheckerTestCase\n",
      "├── FunctionalTestFile\n",
      "├── LintModuleTest\n",
      "├── NamingStyle\n",
      "│   ├── SnakeCaseStyle\n",
      "│   ├── CamelCaseStyle\n",
      "│   ├── PascalCaseStyle\n",
      "│   ├── UpperCaseStyle\n",
      "│   └── AnyStyle\n",
      "├── ScopeAccessMap\n",
      "├── BaseVisitor\n",
      "│   ├── ExceptionRaiseRefVisitor\n",
      "│   └── ExceptionRaiseLeafVisitor\n",
      "├── _ContinuedIndent\n",
      "├── TokenWrapper\n",
      "├── ContinuedLineState\n",
      "├── Similar\n",
      "├── LineSet\n",
      "├── Filter\n",
      "│   ├── WordsWithDigigtsFilter\n",
      "│   ├── WordsWithUnderscores\n",
      "│   ├── CamelCasedWord\n",
      "│   └── SphinxDirectives\n",
      "├── Chunker\n",
      "│   └── ForwardSlashChunkder\n",
      "├── NamesConsumer\n",
      "├── Docstring\n",
      "│   ├── SphinxDocstring\n",
      "│   │   └── EpytextDocstring\n",
      "│   └── GoogleDocstring\n",
      "│       └── NumpyDocstring\n",
      "├── Run\n",
      "├── MessageDefinition\n",
      "├── MessageDefinitionStore\n",
      "├── MessagesHandlerMixIn\n",
      "├── MessageIdStore\n",
      "├── DiaDefGenerator\n",
      "│   └── ClassDiadefGenerator\n",
      "├── DiadefsHandler\n",
      "├── Figure\n",
      "│   ├── Relationship\n",
      "│   ├── DiagramEntity\n",
      "│   └── ClassDiagram\n",
      "│       └── PackageDiagram\n",
      "├── IdGeneratorMixIn\n",
      "│   └── Linker\n",
      "├── Project\n",
      "├── FilterMixIn\n",
      "├── ASTWalker\n",
      "│   └── LocalsVisitor\n",
      "│       └── DefaultDiadefGenerator\n",
      "├── VCGPrinter\n",
      "├── DiagramWriter\n",
      "│   ├── DotWriter\n",
      "│   └── VCGWriter\n",
      "├── BaseReporter\n",
      "│   ├── TestReporter\n",
      "│   ├── MinimalTestReporter\n",
      "│   ├── FunctionalTestReporter\n",
      "│   ├── CollectingReporter\n",
      "│   ├── JSONReporter\n",
      "│   └── TextReporter\n",
      "│       ├── ParseableTextReporter\n",
      "│       │   └── VSTextReporter\n",
      "│       └── ColorizedTextReporter\n",
      "├── ReportsHandlerMixIn\n",
      "├── VNode\n",
      "│   ├── BaseLayout\n",
      "│   │   ├── Section\n",
      "│   │   │   └── EvaluationSection\n",
      "│   │   ├── Title\n",
      "│   │   ├── Paragraph\n",
      "│   │   └── Table\n",
      "│   └── Text\n",
      "│       └── VerbatimText\n",
      "├── BaseWriter\n",
      "│   └── TextWriter\n",
      "├── ASTWalker\n",
      "│   └── LocalsVisitor\n",
      "│       └── DefaultDiadefGenerator\n",
      "└── FileState\n"
     ]
    }
   ],
   "source": [
    "pylint_dynasty.print()"
   ]
  },
  {
   "cell_type": "code",
   "execution_count": null,
   "id": "b5c94d8c-d8fa-4206-8b82-29fa25fa8355",
   "metadata": {},
   "outputs": [],
   "source": []
  }
 ],
 "metadata": {
  "kernelspec": {
   "display_name": "Python 3",
   "language": "python",
   "name": "python3"
  },
  "language_info": {
   "codemirror_mode": {
    "name": "ipython",
    "version": 3
   },
   "file_extension": ".py",
   "mimetype": "text/x-python",
   "name": "python",
   "nbconvert_exporter": "python",
   "pygments_lexer": "ipython3",
   "version": "3.8.3"
  }
 },
 "nbformat": 4,
 "nbformat_minor": 5
}
