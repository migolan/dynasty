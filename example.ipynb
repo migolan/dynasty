{
 "cells": [
  {
   "cell_type": "code",
   "execution_count": 1,
   "id": "0aff441f-69fa-44b4-9d2d-b4aaf42424c9",
   "metadata": {},
   "outputs": [],
   "source": [
    "import pandas\n",
    "import dynasty"
   ]
  },
  {
   "cell_type": "code",
   "execution_count": null,
   "id": "d94e2414-ce31-497b-83cd-f81f0c821b05",
   "metadata": {},
   "outputs": [],
   "source": [
    "class_table = dynasty.pkg_classes(pandas.__path__[0])"
   ]
  },
  {
   "cell_type": "code",
   "execution_count": null,
   "id": "0de34f5f-68a0-4eb4-b478-496075fab538",
   "metadata": {},
   "outputs": [],
   "source": [
    "class_table.head(10)"
   ]
  },
  {
   "cell_type": "code",
   "execution_count": null,
   "id": "6604e57d-0e89-4986-bbc9-f5ae66491358",
   "metadata": {},
   "outputs": [],
   "source": [
    "dynasty.analyze_children(class_table)"
   ]
  },
  {
   "cell_type": "code",
   "execution_count": null,
   "id": "44edd42b-2565-4811-9a00-958e29c833ac",
   "metadata": {},
   "outputs": [],
   "source": [
    "class_table.head(10)"
   ]
  },
  {
   "cell_type": "code",
   "execution_count": null,
   "id": "a4a4b6a7-5ae6-4995-b723-c60cfb6ad188",
   "metadata": {},
   "outputs": [],
   "source": [
    "dynasty.print_class_hierarchy(class_table)"
   ]
  },
  {
   "cell_type": "code",
   "execution_count": null,
   "id": "031014f7-8782-4e9a-9b91-a7fcc0fc07d9",
   "metadata": {},
   "outputs": [],
   "source": []
  }
 ],
 "metadata": {
  "kernelspec": {
   "display_name": "Python 3",
   "language": "python",
   "name": "python3"
  },
  "language_info": {
   "codemirror_mode": {
    "name": "ipython",
    "version": 3
   },
   "file_extension": ".py",
   "mimetype": "text/x-python",
   "name": "python",
   "nbconvert_exporter": "python",
   "pygments_lexer": "ipython3",
   "version": "3.9.5"
  }
 },
 "nbformat": 4,
 "nbformat_minor": 5
}
